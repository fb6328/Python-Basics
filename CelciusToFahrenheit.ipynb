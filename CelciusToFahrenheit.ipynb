{
 "cells": [
  {
   "cell_type": "code",
   "execution_count": 10,
   "metadata": {},
   "outputs": [
    {
     "name": "stdout",
     "output_type": "stream",
     "text": [
      "***CELCIUS TO FAHRENHEIT CONVERSION PROGRAM***\n",
      "333.0 celcius =  631.4 Fahrenheit\n"
     ]
    }
   ],
   "source": [
    "#Write a program which prompts the user for a Celsius temperature,\n",
    "# convert the temperature to Fahrenheit, and\n",
    "# print out the converted temperature. ((0°C × 9/5) + 32 = 32°F)\n",
    "\n",
    "print(\"***CELCIUS TO FAHRENHEIT CONVERSION PROGRAM***\")\n",
    "tempInCelcius = float(input(\"Enter temprature in celcius:\"))\n",
    "tempInFahrenheit = (tempInCelcius*9/5)+32\n",
    "print(tempInCelcius,\"celcius = \", tempInFahrenheit,\"Fahrenheit\")\n"
   ]
  },
  {
   "cell_type": "code",
   "execution_count": null,
   "metadata": {},
   "outputs": [],
   "source": [
    "print(\"***CELCIUS TO FAHRENHEIT CONVERSION PROGRAM***\")\n",
    "tempInCelcius = input(\"Enter temprature in celcius:\")\n",
    "tempInFahrenheit = (tempInCelcius*9/5)+32\n",
    "print(tempInCelcius,\"celcius = \", tempInFahrenheit,\"Fahrenheit\")\n",
    "\n",
    "myDictionary = {'color':'blue','size':'small','name':'Fred'}\n",
    "print(\"The whole dictionary\",myDictionary)\n",
    "print(\"Color is\",myDictionary['color'])"
   ]
  },
  {
   "cell_type": "code",
   "execution_count": null,
   "metadata": {},
   "outputs": [],
   "source": [
    "temp = float(input(\"Enter temperature:\"))\n",
    "print(temp)"
   ]
  },
  {
   "cell_type": "code",
   "execution_count": 1,
   "metadata": {},
   "outputs": [
    {
     "name": "stdout",
     "output_type": "stream",
     "text": [
      "***Claculating Age***\n",
      "Born in 2000 Age is 22 years\n"
     ]
    }
   ],
   "source": [
    "#Write a python program to calculate your age\n",
    "import datetime\n",
    "print(\"***Claculating Age***\")\n",
    "birthYear = int(input(\"Enter year of birth:\"))\n",
    "currentYear = int(datetime.date.today().year)\n",
    "print(\"Born in\",birthYear,\"Age is\",currentYear - birthYear,\"years\")"
   ]
  }
 ],
 "metadata": {
  "kernelspec": {
   "display_name": "Python 3.10.5 64-bit",
   "language": "python",
   "name": "python3"
  },
  "language_info": {
   "codemirror_mode": {
    "name": "ipython",
    "version": 3
   },
   "file_extension": ".py",
   "mimetype": "text/x-python",
   "name": "python",
   "nbconvert_exporter": "python",
   "pygments_lexer": "ipython3",
   "version": "3.10.5"
  },
  "orig_nbformat": 4,
  "vscode": {
   "interpreter": {
    "hash": "8563dd86e556d4366b426f6c2ece01d274a53f776b1859d3ec781ba7d45cd381"
   }
  }
 },
 "nbformat": 4,
 "nbformat_minor": 2
}
