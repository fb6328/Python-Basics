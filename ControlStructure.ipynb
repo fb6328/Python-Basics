{
 "cells": [
  {
   "cell_type": "code",
   "execution_count": 2,
   "metadata": {},
   "outputs": [
    {
     "name": "stdout",
     "output_type": "stream",
     "text": [
      "Chris Qulaified for credit\n"
     ]
    }
   ],
   "source": [
    "#A program to check if a client is qualified for a loan\n",
    "clientName = input(\"Enter client name:\")\n",
    "joinMonth = int(input(\"Enter a number to represent joining date:\"))\n",
    "currentMonth = int(input(\"Current month\"))\n",
    "balance = int(input(\"Enter balance:\"))\n",
    "crbStatus = input(\"Enter CRB status i.e. type 'Good' or 'Poor'\")\n",
    "#print(\"You entered the following data: \",clientName,joinMonth,currentMonth,balance,crbStatus)\n",
    "\n",
    "if (currentMonth-joinMonth)>=6 and balance>=10000 and crbStatus=='Good':\n",
    "    print(clientName, \"is qualified for credit\")\n",
    "else:\n",
    "        print(clientName,\"is not qualified for credit\")"
   ]
  },
  {
   "cell_type": "code",
   "execution_count": 3,
   "metadata": {},
   "outputs": [
    {
     "name": "stdout",
     "output_type": "stream",
     "text": [
      "Mark is subject to further review\n"
     ]
    }
   ],
   "source": [
    "#A program to check if a client is qualified for a loan\n",
    "clientName = input(\"Enter client name:\")\n",
    "joinMonth = int(input(\"Enter a number to represent joining date:\"))\n",
    "currentMonth = int(input(\"Current month\"))\n",
    "balance = int(input(\"Enter balance:\"))\n",
    "crbStatus = input(\"Enter CRB status i.e. type 'Good' or 'Poor'\")\n",
    "#print(\"You entered the following data: \",clientName,joinMonth,currentMonth,balance,crbStatus)\n",
    "\n",
    "if (currentMonth-joinMonth)>=6 and balance>=10000 and crbStatus=='Good':\n",
    "    print(clientName, \"is qualified for credit\")\n",
    "elif(currentMonth-joinMonth)>=6 and balance>=100000:\n",
    "        print(clientName,\"is subject to further review\")\n",
    "else:\n",
    "    print(clientName,\"Is not qualified for now\")"
   ]
  }
 ],
 "metadata": {
  "kernelspec": {
   "display_name": "Python 3.10.5 64-bit",
   "language": "python",
   "name": "python3"
  },
  "language_info": {
   "codemirror_mode": {
    "name": "ipython",
    "version": 3
   },
   "file_extension": ".py",
   "mimetype": "text/x-python",
   "name": "python",
   "nbconvert_exporter": "python",
   "pygments_lexer": "ipython3",
   "version": "3.10.5"
  },
  "orig_nbformat": 4,
  "vscode": {
   "interpreter": {
    "hash": "8563dd86e556d4366b426f6c2ece01d274a53f776b1859d3ec781ba7d45cd381"
   }
  }
 },
 "nbformat": 4,
 "nbformat_minor": 2
}
