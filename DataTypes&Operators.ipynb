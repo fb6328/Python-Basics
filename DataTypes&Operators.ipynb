{
 "cells": [
  {
   "cell_type": "code",
   "execution_count": 8,
   "metadata": {},
   "outputs": [
    {
     "name": "stdout",
     "output_type": "stream",
     "text": [
      "{'A': 'blue', 'B': 'small', 'C': 'Fred'}\n",
      "blue\n",
      "small\n",
      "Fred\n"
     ]
    }
   ],
   "source": [
    "# A dictionary list for color, size and name\n",
    "myDictionary = {'color':'blue','size':'small','name':'Fred'}\n",
    "print(\"The whole dictionary\",myDictionary)\n",
    "print(\"Color is\",myDictionary['color'])\n",
    "print(\"Size is\",myDictionary['size'])\n",
    "print(\"Name is\",myDictionary['C'])"
   ]
  },
  {
   "cell_type": "code",
   "execution_count": 9,
   "metadata": {},
   "outputs": [
    {
     "name": "stdout",
     "output_type": "stream",
     "text": [
      "{'color1': 'Red', 'color2': 'Green', 'color3': 'Blue'}\n",
      "color2\n"
     ]
    }
   ],
   "source": [
    "# Dictionary for list of colors\n",
    "myColors = {'color1':'Red','color2':'Green','color3':'Blue'}\n",
    "print(myColors)\n",
    "print('color2')"
   ]
  },
  {
   "cell_type": "code",
   "execution_count": null,
   "metadata": {},
   "outputs": [],
   "source": []
  },
  {
   "cell_type": "code",
   "execution_count": 33,
   "metadata": {},
   "outputs": [
    {
     "name": "stdout",
     "output_type": "stream",
     "text": [
      "The current date is  2022-06-21\n",
      "The current time is  19:17:40.457506\n",
      "The current date and time is  2022-06-21 19:17:40.457506\n"
     ]
    }
   ],
   "source": [
    "#Acccessing system date and time in Python\n",
    "\n",
    "import datetime\n",
    "#currentDate variable is to store the date today\n",
    "currentDate = datetime.date.today()\n",
    "\n",
    "#currentTime variable is to store the time now\n",
    "currentTime = datetime.datetime.now().time()\n",
    "\n",
    "#currentDateTime variable is to store the date and time now\n",
    "currentDateTime = datetime.datetime.now()\n",
    "\n",
    "#Display values on the screen\n",
    "print(\"The current date is \",currentDate)\n",
    "print(\"The current time is \",currentTime)\n",
    "print(\"The current date and time is \",currentDateTime)\n",
    "\n"
   ]
  },
  {
   "cell_type": "code",
   "execution_count": 37,
   "metadata": {},
   "outputs": [
    {
     "name": "stdout",
     "output_type": "stream",
     "text": [
      "3 + 2 = 5\n",
      "3 - 2 = 1\n",
      "3 * 2 = 6\n",
      "3 / 2 = 1.5\n",
      "3 % 2 = 1\n",
      "3 ** 2 = 9\n",
      "3 // 2 = 1\n"
     ]
    }
   ],
   "source": [
    "#Arithmetic operators in Python\n",
    "\n",
    "#Addition of two values 3 and 2\n",
    "print(\"3 + 2 =\",3+2)\n",
    "\n",
    "#Subtraction of two values 3 and 2\n",
    "print(\"3 - 2 =\",3-2)\n",
    "\n",
    "#Multiplication of two values 3 and 2\n",
    "print(\"3 * 2 =\",3*2)\n",
    "\n",
    "#Divition of two values 3 and 2\n",
    "print(\"3 / 2 =\",3/2)\n",
    "\n",
    "#Modulus of two values 3 and 2\n",
    "print(\"3 % 2 =\",3%2)\n",
    "\n",
    "#Exponent of two values 3 and 2\n",
    "print(\"3 ** 2 =\",3**2)\n",
    "\n",
    "#Floor Division of two values 3 and 2\n",
    "print(\"3 // 2 =\",3//2)\n"
   ]
  },
  {
   "cell_type": "code",
   "execution_count": 41,
   "metadata": {},
   "outputs": [
    {
     "name": "stdout",
     "output_type": "stream",
     "text": [
      "False\n",
      "True\n",
      "False\n",
      "True\n",
      "False\n",
      "True\n"
     ]
    }
   ],
   "source": [
    "#Comparison operators in Python. Output is always 'true' or 'false'\n",
    "print(3==2)\n",
    "print(3!=2)\n",
    "print(3<2)\n",
    "print(3>2)\n",
    "print(3<=2)\n",
    "print(3>=2)\n"
   ]
  },
  {
   "cell_type": "code",
   "execution_count": 50,
   "metadata": {},
   "outputs": [
    {
     "name": "stdout",
     "output_type": "stream",
     "text": [
      "'AND results'\n",
      "True\n",
      "False\n",
      "'OR results'\n",
      "True\n",
      "False\n",
      "'NOT results'\n",
      "False\n",
      "True\n"
     ]
    }
   ],
   "source": [
    "#Logical operators in Python\n",
    "#A logical comparison on two logical statements\n",
    "\n",
    "#AND\n",
    "print(\"'AND results'\")\n",
    "#-Outputs true only if both (all) statements are true\n",
    "print(3>2 and 3!=2) #true statement\n",
    "print(3<2 and 2<3) #false statement\n",
    "\n",
    "#OR\n",
    "print(\"'OR results'\")\n",
    "#-Outputs false only if both (all) statements are false\n",
    "print(3>2 or 3!=2) #true statement\n",
    "print(3<2 or 2>3) #false statement\n",
    "\n",
    "#NOT\n",
    "print(\"'NOT results'\")\n",
    "#-Negetates true or false statements\n",
    "print(not 3>2) #false statement\n",
    "print(not 2>3) #true statement"
   ]
  },
  {
   "cell_type": "code",
   "execution_count": 6,
   "metadata": {},
   "outputs": [
    {
     "name": "stdout",
     "output_type": "stream",
     "text": [
      "Hello joined to  World\n"
     ]
    }
   ],
   "source": [
    "print(\"Hello\",\"joined to \",\"World\")"
   ]
  },
  {
   "cell_type": "code",
   "execution_count": 27,
   "metadata": {},
   "outputs": [
    {
     "name": "stdout",
     "output_type": "stream",
     "text": [
      "ASSIGNMENT OPERATORS\n",
      "First name = Ann\n",
      "First name = Fred\n",
      "'Use of +='\n",
      "8\n",
      "'Use of -='\n",
      "2\n",
      "'Use of *='\n",
      "15\n",
      "'Use of /='\n",
      "1.6666666666666667\n",
      "'Use of %='\n",
      "2\n",
      "'Use of **='\n",
      "125\n",
      "'Use of //='\n",
      "1\n",
      "Check if H is in Hello\n"
     ]
    },
    {
     "data": {
      "text/plain": [
       "False"
      ]
     },
     "execution_count": 27,
     "metadata": {},
     "output_type": "execute_result"
    }
   ],
   "source": [
    "#Assignment operators\n",
    "print(\"ASSIGNMENT OPERATORS\")\n",
    "firstName = \"Ann\"\n",
    "print(\"First name =\",firstName)\n",
    "firstName = \"Fred\"\n",
    "print(\"First name =\",firstName)\n",
    "\n",
    "print(\"'Use of +='\")\n",
    "number = 5\n",
    "number +=3\n",
    "print(number)\n",
    "\n",
    "print(\"'Use of -='\")\n",
    "number = 5\n",
    "number -=3\n",
    "print(number)\n",
    "\n",
    "print(\"'Use of *='\")\n",
    "number = 5\n",
    "number *=3\n",
    "print(number)\n",
    "\n",
    "print(\"'Use of /='\")\n",
    "number = 5\n",
    "number /=3\n",
    "print(number)\n",
    "\n",
    "print(\"'Use of %='\")\n",
    "number = 5\n",
    "number %=3\n",
    "print(number)\n",
    "\n",
    "print(\"'Use of **='\")\n",
    "number = 5\n",
    "number **=3 #5**3\n",
    "print(number)\n",
    "\n",
    "print(\"'Use of //='\")\n",
    "number = 5\n",
    "number //=3\n",
    "print(number)\n",
    "\n",
    "#Membership operators\n",
    "print(\"Check if H is in Hello\")\n",
    "\"h\" in \"Hello\"\n"
   ]
  },
  {
   "cell_type": "code",
   "execution_count": 29,
   "metadata": {},
   "outputs": [
    {
     "name": "stdout",
     "output_type": "stream",
     "text": [
      "Check if H is not in Hello\n"
     ]
    },
    {
     "data": {
      "text/plain": [
       "False"
      ]
     },
     "execution_count": 29,
     "metadata": {},
     "output_type": "execute_result"
    }
   ],
   "source": [
    "print(\"Check if H is not in Hello\")\n",
    "\"h\" in \"Hello\""
   ]
  },
  {
   "cell_type": "code",
   "execution_count": 38,
   "metadata": {},
   "outputs": [
    {
     "name": "stdout",
     "output_type": "stream",
     "text": [
      "Check integers\n",
      "True\n",
      "False\n",
      "Check strings\n",
      "False\n",
      "True\n",
      "True\n",
      "False\n"
     ]
    }
   ],
   "source": [
    "#Type operators\n",
    "print(\"Check integers\")\n",
    "print(type(3) is int) #True\n",
    "print(type(3) is not int) #False\n",
    "\n",
    "print(\"Check strings\")\n",
    "print(type(3) is str) #False\n",
    "print(type(3) is not str) #True\n",
    "print(type(\"Ann\") is str) #True\n",
    "print(type(\"Ann\") is not str) #False\n",
    "\n",
    "\n"
   ]
  }
 ],
 "metadata": {
  "kernelspec": {
   "display_name": "Python 3.10.5 64-bit",
   "language": "python",
   "name": "python3"
  },
  "language_info": {
   "codemirror_mode": {
    "name": "ipython",
    "version": 3
   },
   "file_extension": ".py",
   "mimetype": "text/x-python",
   "name": "python",
   "nbconvert_exporter": "python",
   "pygments_lexer": "ipython3",
   "version": "3.10.5"
  },
  "orig_nbformat": 4,
  "vscode": {
   "interpreter": {
    "hash": "8563dd86e556d4366b426f6c2ece01d274a53f776b1859d3ec781ba7d45cd381"
   }
  }
 },
 "nbformat": 4,
 "nbformat_minor": 2
}
